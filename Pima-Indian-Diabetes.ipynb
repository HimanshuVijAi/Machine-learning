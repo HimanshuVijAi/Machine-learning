{
 "cells": [
  {
   "cell_type": "markdown",
   "id": "9c91bee6-f28c-4e4b-9c60-e1377c74b92b",
   "metadata": {},
   "source": [
    "This dataset is originally from the National Institute of Diabetes and Digestive and Kidney Diseases. The objective of the dataset is to diagnostically predict whether or not a patient has diabetes, based on certain diagnostic measurements included in the dataset. Several constraints were placed on the selection of these instances from a larger database. In particular, all patients here are females at least 21 years old of Pima Indian heritage."
   ]
  },
  {
   "cell_type": "markdown",
   "id": "d205cbed-51ea-48a5-923f-dc51f3d46354",
   "metadata": {},
   "source": [
    "Pregancies - No of times pregnant <br>\n",
    "Glucose - Plasma glucose concentration a 2 hours in an oral glucose tolerance test<br>\r",
    "Blood Pressure - Diastolic blood pressure (mm Hg)<br>\r",
    "SkinThickness- Triceps skin fold thickness (mm)<br>\n",
    "Insulin - 2-Hour serum insulin (mu U/ml)<br>\r",
    "BMI - Body mass index (weight in kg/(height in m)^2) <br>\r",
    "DiabetesPedigreeFunction - Diabetes pedigree function<br>\r",
    "Age - Age (years)<br>\r",
    "Outcome - Class variable (0 or 1) 268 of 768 are 1, the others are 0<br>\n",
    "\r\n",
    "\r\n",
    "\n",
    "\r\n",
    "\n",
    "\r\n",
    "\n",
    "\r\n",
    "\n",
    "\r\n"
   ]
  },
  {
   "cell_type": "code",
   "execution_count": 12,
   "id": "740ef5ac-4f1e-4860-aeca-b0b3a17e77a8",
   "metadata": {},
   "outputs": [
    {
     "data": {
      "text/html": [
       "<div>\n",
       "<style scoped>\n",
       "    .dataframe tbody tr th:only-of-type {\n",
       "        vertical-align: middle;\n",
       "    }\n",
       "\n",
       "    .dataframe tbody tr th {\n",
       "        vertical-align: top;\n",
       "    }\n",
       "\n",
       "    .dataframe thead th {\n",
       "        text-align: right;\n",
       "    }\n",
       "</style>\n",
       "<table border=\"1\" class=\"dataframe\">\n",
       "  <thead>\n",
       "    <tr style=\"text-align: right;\">\n",
       "      <th></th>\n",
       "      <th>Pregnancies</th>\n",
       "      <th>Glucose</th>\n",
       "      <th>BloodPressure</th>\n",
       "      <th>SkinThickness</th>\n",
       "      <th>Insulin</th>\n",
       "      <th>BMI</th>\n",
       "      <th>DiabetesPedigreeFunction</th>\n",
       "      <th>Age</th>\n",
       "      <th>Outcome</th>\n",
       "    </tr>\n",
       "  </thead>\n",
       "  <tbody>\n",
       "    <tr>\n",
       "      <th>0</th>\n",
       "      <td>6</td>\n",
       "      <td>148</td>\n",
       "      <td>72</td>\n",
       "      <td>35</td>\n",
       "      <td>0</td>\n",
       "      <td>33.6</td>\n",
       "      <td>0.627</td>\n",
       "      <td>50</td>\n",
       "      <td>1</td>\n",
       "    </tr>\n",
       "    <tr>\n",
       "      <th>1</th>\n",
       "      <td>1</td>\n",
       "      <td>85</td>\n",
       "      <td>66</td>\n",
       "      <td>29</td>\n",
       "      <td>0</td>\n",
       "      <td>26.6</td>\n",
       "      <td>0.351</td>\n",
       "      <td>31</td>\n",
       "      <td>0</td>\n",
       "    </tr>\n",
       "    <tr>\n",
       "      <th>2</th>\n",
       "      <td>8</td>\n",
       "      <td>183</td>\n",
       "      <td>64</td>\n",
       "      <td>0</td>\n",
       "      <td>0</td>\n",
       "      <td>23.3</td>\n",
       "      <td>0.672</td>\n",
       "      <td>32</td>\n",
       "      <td>1</td>\n",
       "    </tr>\n",
       "    <tr>\n",
       "      <th>3</th>\n",
       "      <td>1</td>\n",
       "      <td>89</td>\n",
       "      <td>66</td>\n",
       "      <td>23</td>\n",
       "      <td>94</td>\n",
       "      <td>28.1</td>\n",
       "      <td>0.167</td>\n",
       "      <td>21</td>\n",
       "      <td>0</td>\n",
       "    </tr>\n",
       "    <tr>\n",
       "      <th>4</th>\n",
       "      <td>0</td>\n",
       "      <td>137</td>\n",
       "      <td>40</td>\n",
       "      <td>35</td>\n",
       "      <td>168</td>\n",
       "      <td>43.1</td>\n",
       "      <td>2.288</td>\n",
       "      <td>33</td>\n",
       "      <td>1</td>\n",
       "    </tr>\n",
       "  </tbody>\n",
       "</table>\n",
       "</div>"
      ],
      "text/plain": [
       "   Pregnancies  Glucose  BloodPressure  SkinThickness  Insulin   BMI  \\\n",
       "0            6      148             72             35        0  33.6   \n",
       "1            1       85             66             29        0  26.6   \n",
       "2            8      183             64              0        0  23.3   \n",
       "3            1       89             66             23       94  28.1   \n",
       "4            0      137             40             35      168  43.1   \n",
       "\n",
       "   DiabetesPedigreeFunction  Age  Outcome  \n",
       "0                     0.627   50        1  \n",
       "1                     0.351   31        0  \n",
       "2                     0.672   32        1  \n",
       "3                     0.167   21        0  \n",
       "4                     2.288   33        1  "
      ]
     },
     "execution_count": 12,
     "metadata": {},
     "output_type": "execute_result"
    }
   ],
   "source": [
    "import pandas as pd\n",
    "import numpy as np\n",
    "from sklearn.datasets import load_diabetes\n",
    "from sklearn.model_selection import train_test_split, cross_val_score\n",
    "\n",
    "# Load the dataset\n",
    "data = pd.read_csv(\"C:\\\\Users\\\\himan\\\\OneDrive\\\\Desktop\\\\csv\\\\Machine Learning\\\\pima-indians-diabetes.csv\")\n",
    "data.head()"
   ]
  },
  {
   "cell_type": "code",
   "execution_count": 13,
   "id": "98f5be82-6d8f-47ad-8315-31248775ae6a",
   "metadata": {},
   "outputs": [],
   "source": [
    "from sklearn.model_selection import KFold\n",
    "cv = KFold(n_splits=5)"
   ]
  },
  {
   "cell_type": "code",
   "execution_count": 14,
   "id": "83629b8c-01f8-4ab9-a813-bcb8e64a7ed2",
   "metadata": {},
   "outputs": [],
   "source": [
    "# Splitting the dataset into features and columns\n",
    "X = data.drop(columns=[\"Outcome\"])\n",
    "y = data[\"Outcome\"]"
   ]
  },
  {
   "cell_type": "code",
   "execution_count": 15,
   "id": "af870033-3d08-43bd-87b8-f17bbb1672f5",
   "metadata": {},
   "outputs": [
    {
     "name": "stdout",
     "output_type": "stream",
     "text": [
      "Accuracy Scores:\n",
      " [0.75974026 0.68831169 0.75974026 0.79084967 0.73856209]\n",
      "Mean Accuracy Score: 0.747440794499618\n"
     ]
    }
   ],
   "source": [
    "from sklearn.ensemble import AdaBoostClassifier\n",
    "from sklearn.tree import DecisionTreeClassifier\n",
    "\n",
    "# Initialize AdaBoost\n",
    "ada_model = AdaBoostClassifier(n_estimators=100, random_state=42) \n",
    "# n_estimators - The maximum number of decision trees at which boosting is terminated. In case of perfect fit, the learning procedure is stopped early. \n",
    "\n",
    "# Perform cross-validation\n",
    "ada_scores = cross_val_score(ada_model, X, y, cv=cv, scoring='accuracy')\n",
    "\n",
    "print(\"Accuracy Scores:\\n\",ada_scores)\n",
    "print(f\"Mean Accuracy Score: {np.mean(ada_scores)}\")"
   ]
  },
  {
   "cell_type": "code",
   "execution_count": 16,
   "id": "7bc93a5a-a2d9-474d-bc30-9505ddf4c80f",
   "metadata": {},
   "outputs": [
    {
     "name": "stdout",
     "output_type": "stream",
     "text": [
      "Accuracy Scores:\n",
      " [0.79220779 0.71428571 0.78571429 0.79738562 0.75163399]\n",
      "Mean Accuracy Score: 0.7682454800101859\n"
     ]
    }
   ],
   "source": [
    "from sklearn.ensemble import GradientBoostingClassifier\n",
    "\n",
    "# Initialize Gradient Boosting\n",
    "gb_model = GradientBoostingClassifier(n_estimators=100, learning_rate=0.1, random_state=42)\n",
    "\n",
    "# Perform cross-validation\n",
    "gb_scores = cross_val_score(gb_model, X, y, cv=cv, scoring='accuracy')\n",
    "\n",
    "print(\"Accuracy Scores:\\n\",gb_scores)\n",
    "print(f\"Mean Accuracy Score: {np.mean(gb_scores)}\")"
   ]
  },
  {
   "cell_type": "code",
   "execution_count": 17,
   "id": "4224fe96-be99-4795-b00a-834ccfc4530a",
   "metadata": {},
   "outputs": [
    {
     "name": "stdout",
     "output_type": "stream",
     "text": [
      "Requirement already satisfied: xgboost in c:\\users\\himan\\onedrive\\documents\\custom office templates\\anaconda\\lib\\site-packages (2.1.0)\n",
      "Requirement already satisfied: numpy in c:\\users\\himan\\onedrive\\documents\\custom office templates\\anaconda\\lib\\site-packages (from xgboost) (1.26.4)\n",
      "Requirement already satisfied: scipy in c:\\users\\himan\\onedrive\\documents\\custom office templates\\anaconda\\lib\\site-packages (from xgboost) (1.11.4)\n"
     ]
    }
   ],
   "source": [
    "!pip install xgboost"
   ]
  },
  {
   "cell_type": "code",
   "execution_count": 18,
   "id": "657209dd-ae04-4e15-abaa-a6c77615c53a",
   "metadata": {},
   "outputs": [
    {
     "name": "stdout",
     "output_type": "stream",
     "text": [
      "Accuracy Scores:\n",
      " [0.77922078 0.71428571 0.75974026 0.79738562 0.74509804]\n",
      "Mean Accuracy Score: 0.7591460826754945\n"
     ]
    }
   ],
   "source": [
    "import xgboost as xgb\n",
    "\n",
    "# Initialize XGBoost\n",
    "xgb_model = xgb.XGBClassifier(n_estimators=100, learning_rate=0.1, random_state=42)\n",
    "\n",
    "# Perform cross-validation\n",
    "xgb_scores = cross_val_score(xgb_model, X, y, cv=cv, scoring='accuracy')\n",
    "\n",
    "print(\"Accuracy Scores:\\n\",xgb_scores)\n",
    "print(f\"Mean Accuracy Score: {np.mean(xgb_scores)}\")"
   ]
  },
  {
   "cell_type": "markdown",
   "id": "5f0ed352-835e-4ce8-b577-91fb007c3fca",
   "metadata": {},
   "source": [
    "## GridSearchCV"
   ]
  },
  {
   "cell_type": "code",
   "execution_count": 19,
   "id": "adce5d32-fd64-48f2-8d5c-0b774fae87fb",
   "metadata": {},
   "outputs": [
    {
     "name": "stdout",
     "output_type": "stream",
     "text": [
      "GridSearchCV best parameters: {'learning_rate': 0.1, 'max_depth': 5, 'n_estimators': 50}\n",
      "GridSearchCV best score: 0.7735081911552499\n"
     ]
    }
   ],
   "source": [
    "from sklearn.model_selection import GridSearchCV\n",
    "\n",
    "# Define the parameter grid\n",
    "param_grid = {\n",
    "    'n_estimators': [50, 100, 200],\n",
    "    'learning_rate': [0.01, 0.1, 0.2],\n",
    "    'max_depth': [3, 4, 5],\n",
    "}\n",
    "# Initialize XGBoost classifier\n",
    "xgb_model = xgb.XGBClassifier()\n",
    "\n",
    "# Initialize GridSearchCV\n",
    "grid_search = GridSearchCV(estimator=xgb_model, param_grid=param_grid, cv=cv, scoring='accuracy')\n",
    "\n",
    "# Perform the grid search\n",
    "grid_search.fit(X,y)\n",
    "\n",
    "# Print the best parameters and the best score\n",
    "print(\"GridSearchCV best parameters:\", grid_search.best_params_)\n",
    "print(\"GridSearchCV best score:\", grid_search.best_score_)\n"
   ]
  },
  {
   "cell_type": "markdown",
   "id": "3e7c422f-d465-47dd-add2-42d593ecc6a8",
   "metadata": {},
   "source": [
    "## RandomizedSearcCV"
   ]
  },
  {
   "cell_type": "code",
   "execution_count": 20,
   "id": "e8afdc03-a2e3-420e-b756-e2b9ac5cc1b2",
   "metadata": {},
   "outputs": [
    {
     "name": "stdout",
     "output_type": "stream",
     "text": [
      "RandomizedSearchCV best parameters: {'learning_rate': 0.060709018007407196, 'max_depth': 3, 'n_estimators': 123}\n",
      "RandomizedSearchCV best score: 0.7695866225277991\n"
     ]
    }
   ],
   "source": [
    "from sklearn.model_selection import RandomizedSearchCV\n",
    "from scipy.stats import uniform, randint\n",
    "\n",
    "param_dist = {\n",
    "    'n_estimators': randint(50, 200),  # To generate random integers from a discrete uniform distribution.\n",
    "    'learning_rate': uniform(0.01, 0.2), # Generates random numbers that are uniformly distributed over a specified range.\n",
    "    'max_depth': randint(3, 10),\n",
    "}\n",
    "\n",
    "# Initialize RandomizedSearchCV\n",
    "random_search = RandomizedSearchCV(estimator=xgb_model, param_distributions=param_dist, n_iter=20, cv=cv, scoring='accuracy')\n",
    "\n",
    "# Perform the randomized search\n",
    "random_search.fit(X, y)\n",
    "\n",
    "# Print the best parameters and the best score\n",
    "print(\"RandomizedSearchCV best parameters:\", random_search.best_params_)\n",
    "print(\"RandomizedSearchCV best score:\", random_search.best_score_)\n"
   ]
  }
 ],
 "metadata": {
  "kernelspec": {
   "display_name": "Python 3 (ipykernel)",
   "language": "python",
   "name": "python3"
  },
  "language_info": {
   "codemirror_mode": {
    "name": "ipython",
    "version": 3
   },
   "file_extension": ".py",
   "mimetype": "text/x-python",
   "name": "python",
   "nbconvert_exporter": "python",
   "pygments_lexer": "ipython3",
   "version": "3.11.7"
  }
 },
 "nbformat": 4,
 "nbformat_minor": 5
}
