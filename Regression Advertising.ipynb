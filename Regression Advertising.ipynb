{
 "cells": [
  {
   "cell_type": "markdown",
   "id": "85d8ff9c",
   "metadata": {},
   "source": [
    "# Problem Statement\n",
    "- The Advertising dataset caption sales revenue generate with respect to advertisement spends across multiple channels like radio, tv, and newspaper."
   ]
  },
  {
   "cell_type": "markdown",
   "id": "844a0f77",
   "metadata": {},
   "source": [
    "#  Objectives \n",
    "<font size = 4> Build a linear regression model to:<br>\n",
    " - Interpret the coefficients of the model.\n",
    " - Make prediction.\n",
    " - Find and analyze model residuals.\n",
    " - Evaluate model effiency using RMSE and R-Suquare value."
   ]
  },
  {
   "cell_type": "code",
   "execution_count": 1,
   "id": "178f871e",
   "metadata": {},
   "outputs": [],
   "source": [
    "import pandas as pd\n",
    "import numpy as np\n",
    "import matplotlib.pyplot as plt\n",
    "import seaborn as sns\n",
    "%matplotlib inline"
   ]
  },
  {
   "cell_type": "code",
   "execution_count": 2,
   "id": "39ff2355",
   "metadata": {},
   "outputs": [
    {
     "data": {
      "text/html": [
       "<div>\n",
       "<style scoped>\n",
       "    .dataframe tbody tr th:only-of-type {\n",
       "        vertical-align: middle;\n",
       "    }\n",
       "\n",
       "    .dataframe tbody tr th {\n",
       "        vertical-align: top;\n",
       "    }\n",
       "\n",
       "    .dataframe thead th {\n",
       "        text-align: right;\n",
       "    }\n",
       "</style>\n",
       "<table border=\"1\" class=\"dataframe\">\n",
       "  <thead>\n",
       "    <tr style=\"text-align: right;\">\n",
       "      <th></th>\n",
       "      <th>TV</th>\n",
       "      <th>radio</th>\n",
       "      <th>newspaper</th>\n",
       "      <th>sales</th>\n",
       "    </tr>\n",
       "  </thead>\n",
       "  <tbody>\n",
       "    <tr>\n",
       "      <th>1</th>\n",
       "      <td>230.1</td>\n",
       "      <td>37.8</td>\n",
       "      <td>69.2</td>\n",
       "      <td>22.1</td>\n",
       "    </tr>\n",
       "    <tr>\n",
       "      <th>2</th>\n",
       "      <td>44.5</td>\n",
       "      <td>39.3</td>\n",
       "      <td>45.1</td>\n",
       "      <td>10.4</td>\n",
       "    </tr>\n",
       "    <tr>\n",
       "      <th>3</th>\n",
       "      <td>17.2</td>\n",
       "      <td>45.9</td>\n",
       "      <td>69.3</td>\n",
       "      <td>9.3</td>\n",
       "    </tr>\n",
       "    <tr>\n",
       "      <th>4</th>\n",
       "      <td>151.5</td>\n",
       "      <td>41.3</td>\n",
       "      <td>58.5</td>\n",
       "      <td>18.5</td>\n",
       "    </tr>\n",
       "    <tr>\n",
       "      <th>5</th>\n",
       "      <td>180.8</td>\n",
       "      <td>10.8</td>\n",
       "      <td>58.4</td>\n",
       "      <td>12.9</td>\n",
       "    </tr>\n",
       "  </tbody>\n",
       "</table>\n",
       "</div>"
      ],
      "text/plain": [
       "      TV  radio  newspaper  sales\n",
       "1  230.1   37.8       69.2   22.1\n",
       "2   44.5   39.3       45.1   10.4\n",
       "3   17.2   45.9       69.3    9.3\n",
       "4  151.5   41.3       58.5   18.5\n",
       "5  180.8   10.8       58.4   12.9"
      ]
     },
     "execution_count": 2,
     "metadata": {},
     "output_type": "execute_result"
    }
   ],
   "source": [
    "# Units of TV,RADIO,NEWSPAPER are given in thousand doller and sales is given in million dollar\n",
    "df = pd.read_csv(\"C:\\\\Users\\\\himan\\\\OneDrive\\\\Desktop\\\\csv\\\\Machine Learning\\\\Advertising.csv\", index_col = 0)\n",
    "df.head()"
   ]
  },
  {
   "cell_type": "markdown",
   "id": "25125c45",
   "metadata": {},
   "source": [
    "# EDA"
   ]
  },
  {
   "cell_type": "code",
   "execution_count": 3,
   "id": "20beb9b8",
   "metadata": {},
   "outputs": [
    {
     "data": {
      "text/html": [
       "<div>\n",
       "<style scoped>\n",
       "    .dataframe tbody tr th:only-of-type {\n",
       "        vertical-align: middle;\n",
       "    }\n",
       "\n",
       "    .dataframe tbody tr th {\n",
       "        vertical-align: top;\n",
       "    }\n",
       "\n",
       "    .dataframe thead th {\n",
       "        text-align: right;\n",
       "    }\n",
       "</style>\n",
       "<table border=\"1\" class=\"dataframe\">\n",
       "  <thead>\n",
       "    <tr style=\"text-align: right;\">\n",
       "      <th></th>\n",
       "      <th>TV</th>\n",
       "      <th>radio</th>\n",
       "      <th>newspaper</th>\n",
       "      <th>sales</th>\n",
       "    </tr>\n",
       "  </thead>\n",
       "  <tbody>\n",
       "    <tr>\n",
       "      <th>count</th>\n",
       "      <td>200.000000</td>\n",
       "      <td>200.000000</td>\n",
       "      <td>200.000000</td>\n",
       "      <td>200.000000</td>\n",
       "    </tr>\n",
       "    <tr>\n",
       "      <th>mean</th>\n",
       "      <td>147.042500</td>\n",
       "      <td>23.264000</td>\n",
       "      <td>30.554000</td>\n",
       "      <td>14.022500</td>\n",
       "    </tr>\n",
       "    <tr>\n",
       "      <th>std</th>\n",
       "      <td>85.854236</td>\n",
       "      <td>14.846809</td>\n",
       "      <td>21.778621</td>\n",
       "      <td>5.217457</td>\n",
       "    </tr>\n",
       "    <tr>\n",
       "      <th>min</th>\n",
       "      <td>0.700000</td>\n",
       "      <td>0.000000</td>\n",
       "      <td>0.300000</td>\n",
       "      <td>1.600000</td>\n",
       "    </tr>\n",
       "    <tr>\n",
       "      <th>25%</th>\n",
       "      <td>74.375000</td>\n",
       "      <td>9.975000</td>\n",
       "      <td>12.750000</td>\n",
       "      <td>10.375000</td>\n",
       "    </tr>\n",
       "    <tr>\n",
       "      <th>50%</th>\n",
       "      <td>149.750000</td>\n",
       "      <td>22.900000</td>\n",
       "      <td>25.750000</td>\n",
       "      <td>12.900000</td>\n",
       "    </tr>\n",
       "    <tr>\n",
       "      <th>75%</th>\n",
       "      <td>218.825000</td>\n",
       "      <td>36.525000</td>\n",
       "      <td>45.100000</td>\n",
       "      <td>17.400000</td>\n",
       "    </tr>\n",
       "    <tr>\n",
       "      <th>max</th>\n",
       "      <td>296.400000</td>\n",
       "      <td>49.600000</td>\n",
       "      <td>114.000000</td>\n",
       "      <td>27.000000</td>\n",
       "    </tr>\n",
       "  </tbody>\n",
       "</table>\n",
       "</div>"
      ],
      "text/plain": [
       "               TV       radio   newspaper       sales\n",
       "count  200.000000  200.000000  200.000000  200.000000\n",
       "mean   147.042500   23.264000   30.554000   14.022500\n",
       "std     85.854236   14.846809   21.778621    5.217457\n",
       "min      0.700000    0.000000    0.300000    1.600000\n",
       "25%     74.375000    9.975000   12.750000   10.375000\n",
       "50%    149.750000   22.900000   25.750000   12.900000\n",
       "75%    218.825000   36.525000   45.100000   17.400000\n",
       "max    296.400000   49.600000  114.000000   27.000000"
      ]
     },
     "execution_count": 3,
     "metadata": {},
     "output_type": "execute_result"
    }
   ],
   "source": [
    "df.describe()"
   ]
  },
  {
   "cell_type": "code",
   "execution_count": 4,
   "id": "7cf98ce2",
   "metadata": {},
   "outputs": [
    {
     "data": {
      "text/plain": [
       "(200, 4)"
      ]
     },
     "execution_count": 4,
     "metadata": {},
     "output_type": "execute_result"
    }
   ],
   "source": [
    "df.shape"
   ]
  },
  {
   "cell_type": "code",
   "execution_count": 5,
   "id": "2ba8ead0",
   "metadata": {},
   "outputs": [
    {
     "data": {
      "image/png": "[encoded data removed]",
      "text/plain": [
       "<Figure size 800x600 with 2 Axes>"
      ]
     },
     "metadata": {},
     "output_type": "display_data"
    }
   ],
   "source": [
    "correlation = df.corr()\n",
    "plt.figure(figsize=(8,6))\n",
    "sns.heatmap(correlation, annot=True)\n",
    "plt.show()"
   ]
  },
  {
   "cell_type": "code",
   "execution_count": 6,
   "id": "cdd7be05",
   "metadata": {},
   "outputs": [
    {
     "data": {
      "text/plain": [
       "TV           False\n",
       "radio        False\n",
       "newspaper    False\n",
       "sales        False\n",
       "dtype: bool"
      ]
     },
     "execution_count": 6,
     "metadata": {},
     "output_type": "execute_result"
    }
   ],
   "source": [
    " df.isna().any()"
   ]
  },
  {
   "cell_type": "code",
   "execution_count": 7,
   "id": "7364b599",
   "metadata": {},
   "outputs": [
    {
     "data": {
      "image/png": "[encoded data removed]",
      "text/plain": [
       "<Figure size 640x480 with 1 Axes>"
      ]
     },
     "metadata": {},
     "output_type": "display_data"
    },
    {
     "data": {
      "image/png": "[encoded data removed]",
      "text/plain": [
       "<Figure size 640x480 with 1 Axes>"
      ]
     },
     "metadata": {},
     "output_type": "display_data"
    },
    {
     "data": {
      "image/png": "[encoded data removed]",
      "text/plain": [
       "<Figure size 640x480 with 1 Axes>"
      ]
     },
     "metadata": {},
     "output_type": "display_data"
    }
   ],
   "source": [
    "plt.scatter(df['TV'],df['sales'],color = 'blue',edgecolors = \"yellow\",marker = '*' ,alpha = 1)\n",
    "plt.xlabel('TV')\n",
    "plt.ylabel('SALES')\n",
    "plt.show()\n",
    "\n",
    "plt.scatter(df['radio'],df['sales'],color = 'blue',edgecolors = \"yellow\",marker = '*' ,alpha = 1)\n",
    "plt.xlabel('RADIO')\n",
    "plt.ylabel('SALES')\n",
    "plt.show()\n",
    "\n",
    "plt.scatter(df['newspaper'],df['sales'],color = 'blue',edgecolors = \"yellow\",marker = '*' ,alpha = 1)\n",
    "plt.xlabel('NEWSPAPER')\n",
    "plt.ylabel('SALES')\n",
    "plt.show()"
   ]
  },
  {
   "cell_type": "markdown",
   "id": "e5d3c0ce",
   "metadata": {},
   "source": [
    "# Simple liner Regression\n",
    "\n",
    "Since we are performing simple liner regression only one feature has been for prediction."
   ]
  },
  {
   "cell_type": "code",
   "execution_count": 8,
   "id": "af0a73cb",
   "metadata": {},
   "outputs": [],
   "source": [
    "feature_cols = ['TV'] # since we are doing simple linear regression, I have taken only one feature \n",
    "x = df[feature_cols]\n",
    "y = df.sales"
   ]
  },
  {
   "cell_type": "markdown",
   "id": "2daa8a64",
   "metadata": {},
   "source": [
    "# Train Test Split\n",
    "\n",
    "We are splitting the dataset in 70-30 ratio for train-test set."
   ]
  },
  {
   "cell_type": "code",
   "execution_count": 9,
   "id": "b7a548e7",
   "metadata": {},
   "outputs": [
    {
     "name": "stdout",
     "output_type": "stream",
     "text": [
      "Shape of x_train is (140, 1)\n",
      "Shape of y_train is (140,)\n",
      "Shape of x_test is (60, 1)\n",
      "Shape of y_test is (60,)\n"
     ]
    }
   ],
   "source": [
    "# Train-Test Split\n",
    "from sklearn.model_selection import train_test_split\n",
    "x_train,x_test,y_train,y_test = train_test_split(x,y,test_size = 0.3, random_state = 42)\n",
    "print(f\"Shape of x_train is {x_train.shape}\")\n",
    "print(f\"Shape of y_train is {y_train.shape}\")\n",
    "print(f\"Shape of x_test is {x_test.shape}\")\n",
    "print(f\"Shape of y_test is {y_test.shape}\")"
   ]
  },
  {
   "cell_type": "markdown",
   "id": "8443fa94",
   "metadata": {},
   "source": [
    "# Fitting the model to our trainig data"
   ]
  },
  {
   "cell_type": "code",
   "execution_count": 10,
   "id": "714290ca",
   "metadata": {},
   "outputs": [
    {
     "data": {
      "text/html": [
       "<style>#sk-container-id-1 {color: black;background-color: white;}#sk-container-id-1 pre{padding: 0;}#sk-container-id-1 div.sk-toggleable {background-color: white;}#sk-container-id-1 label.sk-toggleable__label {cursor: pointer;display: block;width: 100%;margin-bottom: 0;padding: 0.3em;box-sizing: border-box;text-align: center;}#sk-container-id-1 label.sk-toggleable__label-arrow:before {content: \"▸\";float: left;margin-right: 0.25em;color: #696969;}#sk-container-id-1 label.sk-toggleable__label-arrow:hover:before {color: black;}#sk-container-id-1 div.sk-estimator:hover label.sk-toggleable__label-arrow:before {color: black;}#sk-container-id-1 div.sk-toggleable__content {max-height: 0;max-width: 0;overflow: hidden;text-align: left;background-color: #f0f8ff;}#sk-container-id-1 div.sk-toggleable__content pre {margin: 0.2em;color: black;border-radius: 0.25em;background-color: #f0f8ff;}#sk-container-id-1 input.sk-toggleable__control:checked~div.sk-toggleable__content {max-height: 200px;max-width: 100%;overflow: auto;}#sk-container-id-1 input.sk-toggleable__control:checked~label.sk-toggleable__label-arrow:before {content: \"▾\";}#sk-container-id-1 div.sk-estimator input.sk-toggleable__control:checked~label.sk-toggleable__label {background-color: #d4ebff;}#sk-container-id-1 div.sk-label input.sk-toggleable__control:checked~label.sk-toggleable__label {background-color: #d4ebff;}#sk-container-id-1 input.sk-hidden--visually {border: 0;clip: rect(1px 1px 1px 1px);clip: rect(1px, 1px, 1px, 1px);height: 1px;margin: -1px;overflow: hidden;padding: 0;position: absolute;width: 1px;}#sk-container-id-1 div.sk-estimator {font-family: monospace;background-color: #f0f8ff;border: 1px dotted black;border-radius: 0.25em;box-sizing: border-box;margin-bottom: 0.5em;}#sk-container-id-1 div.sk-estimator:hover {background-color: #d4ebff;}#sk-container-id-1 div.sk-parallel-item::after {content: \"\";width: 100%;border-bottom: 1px solid gray;flex-grow: 1;}#sk-container-id-1 div.sk-label:hover label.sk-toggleable__label {background-color: #d4ebff;}#sk-container-id-1 div.sk-serial::before {content: \"\";position: absolute;border-left: 1px solid gray;box-sizing: border-box;top: 0;bottom: 0;left: 50%;z-index: 0;}#sk-container-id-1 div.sk-serial {display: flex;flex-direction: column;align-items: center;background-color: white;padding-right: 0.2em;padding-left: 0.2em;position: relative;}#sk-container-id-1 div.sk-item {position: relative;z-index: 1;}#sk-container-id-1 div.sk-parallel {display: flex;align-items: stretch;justify-content: center;background-color: white;position: relative;}#sk-container-id-1 div.sk-item::before, #sk-container-id-1 div.sk-parallel-item::before {content: \"\";position: absolute;border-left: 1px solid gray;box-sizing: border-box;top: 0;bottom: 0;left: 50%;z-index: -1;}#sk-container-id-1 div.sk-parallel-item {display: flex;flex-direction: column;z-index: 1;position: relative;background-color: white;}#sk-container-id-1 div.sk-parallel-item:first-child::after {align-self: flex-end;width: 50%;}#sk-container-id-1 div.sk-parallel-item:last-child::after {align-self: flex-start;width: 50%;}#sk-container-id-1 div.sk-parallel-item:only-child::after {width: 0;}#sk-container-id-1 div.sk-dashed-wrapped {border: 1px dashed gray;margin: 0 0.4em 0.5em 0.4em;box-sizing: border-box;padding-bottom: 0.4em;background-color: white;}#sk-container-id-1 div.sk-label label {font-family: monospace;font-weight: bold;display: inline-block;line-height: 1.2em;}#sk-container-id-1 div.sk-label-container {text-align: center;}#sk-container-id-1 div.sk-container {/* jupyter's `normalize.less` sets `[hidden] { display: none; }` but bootstrap.min.css set `[hidden] { display: none !important; }` so we also need the `!important` here to be able to override the default hidden behavior on the sphinx rendered scikit-learn.org. See: https://github.com/scikit-learn/scikit-learn/issues/21755 */display: inline-block !important;position: relative;}#sk-container-id-1 div.sk-text-repr-fallback {display: none;}</style><div id=\"sk-container-id-1\" class=\"sk-top-container\"><div class=\"sk-text-repr-fallback\"><pre>LinearRegression()</pre><b>In a Jupyter environment, please rerun this cell to show the HTML representation or trust the notebook. <br />On GitHub, the HTML representation is unable to render, please try loading this page with nbviewer.org.</b></div><div class=\"sk-container\" hidden><div class=\"sk-item\"><div class=\"sk-estimator sk-toggleable\"><input class=\"sk-toggleable__control sk-hidden--visually\" id=\"sk-estimator-id-1\" type=\"checkbox\" checked><label for=\"sk-estimator-id-1\" class=\"sk-toggleable__label sk-toggleable__label-arrow\">LinearRegression</label><div class=\"sk-toggleable__content\"><pre>LinearRegression()</pre></div></div></div></div></div>"
      ],
      "text/plain": [
       "LinearRegression()"
      ]
     },
     "execution_count": 10,
     "metadata": {},
     "output_type": "execute_result"
    }
   ],
   "source": [
    "from sklearn.linear_model import LinearRegression\n",
    "\n",
    "lm = LinearRegression()\n",
    "lm.fit(x_train,y_train)"
   ]
  },
  {
   "cell_type": "markdown",
   "id": "d0234a9e",
   "metadata": {},
   "source": [
    "# Checking the intercept and coeffiecient"
   ]
  },
  {
   "cell_type": "code",
   "execution_count": 11,
   "id": "c60dca39",
   "metadata": {},
   "outputs": [
    {
     "name": "stdout",
     "output_type": "stream",
     "text": [
      " The intercept is 7.23945983075114\n",
      " The coffiecient is [0.0464078]\n"
     ]
    }
   ],
   "source": [
    "print(f\" The intercept is {lm.intercept_}\")  # Give the intercept\n",
    "print(f\" The coffiecient is {lm.coef_}\")  # Give the coefficient "
   ]
  },
  {
   "cell_type": "markdown",
   "id": "0abf2561",
   "metadata": {},
   "source": [
    "# Prediction for train and test dataset"
   ]
  },
  {
   "cell_type": "code",
   "execution_count": 12,
   "id": "a22252e2",
   "metadata": {},
   "outputs": [
    {
     "data": {
      "text/plain": [
       "array([20.43319798, 15.82026244, 12.47890069,  8.34396552, 20.73020791,\n",
       "        8.13977119, 20.86479054,  8.10728573, 13.47202766,  8.42749957,\n",
       "       11.89880316, 10.96136556, 15.98268975, 15.45364081, 13.07292056,\n",
       "       16.96653516, 13.87113475, 15.82026244, 17.56055502, 18.45622561,\n",
       "        8.03767403, 12.83159999, 11.40223968, 16.10799082, 10.74324889,\n",
       "       16.2054472 , 11.21660847, 19.62570222,  9.07256801, 19.36581853,\n",
       "        7.85204282, 16.2286511 , 20.99473238, 19.56537208, 17.20321495,\n",
       "       14.18670781, 13.35136737,  9.90790845, 18.38197312, 13.79688227,\n",
       "       15.62999046, 11.7502982 , 17.4723802 , 13.75047447, 19.09201249,\n",
       "       11.7038904 , 10.30701555, 18.34484688, 15.39331066, 18.38197312,\n",
       "        8.07015949, 17.9178951 , 20.40071251, 15.18911634, 16.47925323,\n",
       "       12.95226027, 13.32352269,  8.40429566, 14.82713548, 18.785721  ,\n",
       "       16.63703976,  7.84740204,  7.42973182, 11.59715245, 19.44007101,\n",
       "       17.83436106, 19.01776001, 18.52583731, 18.36805078, 17.82043872,\n",
       "       17.23570041, 18.37269156, 12.22365778, 15.95484507, 16.84123409,\n",
       "        9.23499532, 14.27024185, 13.63909574, 15.7135245 , 17.43989474,\n",
       "       14.50692164, 20.08049868, 16.75305927, 10.34414179, 10.78501591,\n",
       "       11.68068649, 12.81767765, 17.71834155,  8.56672297, 10.4137535 ,\n",
       "       18.76715788, 17.3795646 , 12.3350365 ,  7.63856693, 11.76422054,\n",
       "       17.01758374, 14.87354328, 19.54680896, 20.29861535,  8.48318893,\n",
       "       20.08978024,  8.95190773, 16.83659331, 20.58634372, 12.00554111,\n",
       "       19.43078945, 11.43472514, 16.5117387 , 11.61107479, 17.02222452,\n",
       "       17.78331247, 11.33726876, 18.25667206, 13.56020248, 15.2448057 ,\n",
       "        8.03767403, 10.00536484, 10.70612265, 14.19134859, 14.98028123,\n",
       "        9.30460703, 17.28210821,  9.31388859,  7.27194529, 12.85480389,\n",
       "       15.95948585, 13.51379468, 13.69942589, 12.37680353, 17.1428848 ,\n",
       "        8.11192651, 18.0107107 , 17.37492382, 20.51209124, 12.3350365 ,\n",
       "        8.39965488, 16.71129225, 17.34243835, 14.92459186, 20.24292599])"
      ]
     },
     "execution_count": 12,
     "metadata": {},
     "output_type": "execute_result"
    }
   ],
   "source": [
    "preds_train = lm.predict(x_train)\n",
    "preds_test = lm.predict(x_test)\n",
    "\n",
    "preds_train"
   ]
  },
  {
   "cell_type": "markdown",
   "id": "b45939ee",
   "metadata": {},
   "source": [
    "# Assesing model performance through various metrics"
   ]
  },
  {
   "cell_type": "code",
   "execution_count": 13,
   "id": "25927dff",
   "metadata": {},
   "outputs": [
    {
     "name": "stdout",
     "output_type": "stream",
     "text": [
      " RMSE for train data is :3.3450117024237263\n",
      " R2 for train data is : 0.5736021199591975\n",
      " RMSE for test data is :2.995161304907236\n",
      " R2 for test data is : 0.6714477229302764\n"
     ]
    }
   ],
   "source": [
    "from sklearn.metrics import r2_score,mean_squared_error\n",
    "print(f\" RMSE for train data is :{np.sqrt(mean_squared_error(y_train,preds_train))}\")\n",
    "print(f\" R2 for train data is : {r2_score(y_train,preds_train)}\")\n",
    "print(f\" RMSE for test data is :{np.sqrt(mean_squared_error(y_test,preds_test))}\")\n",
    "print(f\" R2 for test data is : {r2_score(y_test,preds_test)}\")\n"
   ]
  },
  {
   "cell_type": "code",
   "execution_count": 14,
   "id": "a952161a",
   "metadata": {},
   "outputs": [
    {
     "data": {
      "text/plain": [
       "Text(0, 0.5, 'SALES')"
      ]
     },
     "execution_count": 14,
     "metadata": {},
     "output_type": "execute_result"
    },
    {
     "data": {
      "image/png": "[encoded data removed]",
      "text/plain": [
       "<Figure size 640x480 with 1 Axes>"
      ]
     },
     "metadata": {},
     "output_type": "display_data"
    }
   ],
   "source": [
    "sns.regplot(x = np.reshape(x_train,newshape = (140,)), y = np.reshape(y_train, newshape = (140,)))\n",
    "plt.xlabel(\"TV\")\n",
    "plt.ylabel(\"SALES\")"
   ]
  },
  {
   "cell_type": "markdown",
   "id": "0db0136b",
   "metadata": {},
   "source": [
    "# Simple Linear Regression using statsmodels"
   ]
  },
  {
   "cell_type": "code",
   "execution_count": 15,
   "id": "f86abc02",
   "metadata": {},
   "outputs": [],
   "source": [
    "import statsmodels.api as sm\n",
    "x_train = sm.add_constant(x_train)  # This is giving the intercept\n",
    "model = sm.OLS(y_train,x_train).fit()"
   ]
  },
  {
   "cell_type": "code",
   "execution_count": 16,
   "id": "5fece0f8",
   "metadata": {},
   "outputs": [
    {
     "name": "stdout",
     "output_type": "stream",
     "text": [
      "                            OLS Regression Results                            \n",
      "==============================================================================\n",
      "Dep. Variable:                  sales   R-squared:                       0.574\n",
      "Model:                            OLS   Adj. R-squared:                  0.571\n",
      "Method:                 Least Squares   F-statistic:                     185.6\n",
      "Date:                Thu, 25 Apr 2024   Prob (F-statistic):           2.55e-27\n",
      "Time:                        18:03:25   Log-Likelihood:                -367.70\n",
      "No. Observations:                 140   AIC:                             739.4\n",
      "Df Residuals:                     138   BIC:                             745.3\n",
      "Df Model:                           1                                         \n",
      "Covariance Type:            nonrobust                                         \n",
      "==============================================================================\n",
      "                 coef    std err          t      P>|t|      [0.025      0.975]\n",
      "------------------------------------------------------------------------------\n",
      "const          7.2395      0.604     11.986      0.000       6.045       8.434\n",
      "TV             0.0464      0.003     13.625      0.000       0.040       0.053\n",
      "==============================================================================\n",
      "Omnibus:                        1.465   Durbin-Watson:                   2.127\n",
      "Prob(Omnibus):                  0.481   Jarque-Bera (JB):                1.379\n",
      "Skew:                          -0.125   Prob(JB):                        0.502\n",
      "Kurtosis:                       2.583   Cond. No.                         376.\n",
      "==============================================================================\n",
      "\n",
      "Notes:\n",
      "[1] Standard Errors assume that the covariance matrix of the errors is correctly specified.\n"
     ]
    }
   ],
   "source": [
    "print(model.summary())"
   ]
  },
  {
   "cell_type": "markdown",
   "id": "a9ca7c41",
   "metadata": {},
   "source": [
    "# Interpratation\n",
    "- The P-value value 0.000 is less the 0.05.\n",
    "- The regression model suggests that tv advertising spending has a positive impact on sales, with each additional dollar spent on TV advertising contributing to an estimated increase in sales. However, keep in mind that correlation does not imply causation.\n"
   ]
  },
  {
   "cell_type": "markdown",
   "id": "a1c04a10",
   "metadata": {},
   "source": [
    "# Multiple Linear Regression\n",
    "\n"
   ]
  },
  {
   "cell_type": "code",
   "execution_count": 17,
   "id": "5db225ce",
   "metadata": {},
   "outputs": [],
   "source": [
    "# Using multiple linear regression"
   ]
  },
  {
   "cell_type": "code",
   "execution_count": 18,
   "id": "289ee315",
   "metadata": {},
   "outputs": [],
   "source": [
    "feature_cols = [\"TV\",\"radio\",\"newspaper\"]\n",
    "x = df[feature_cols]\n",
    "y = df.sales"
   ]
  },
  {
   "cell_type": "markdown",
   "id": "b2b18c63",
   "metadata": {},
   "source": [
    "# train-test split"
   ]
  },
  {
   "cell_type": "code",
   "execution_count": 19,
   "id": "aeac9754",
   "metadata": {},
   "outputs": [],
   "source": [
    "from sklearn import model_selection as ms\n",
    "x_train,x_test,y_train,y_test = train_test_split(x,y,test_size = 0.3, random_state = 42)"
   ]
  },
  {
   "cell_type": "markdown",
   "id": "9aa53dab",
   "metadata": {},
   "source": [
    "# Standardizing the dataset"
   ]
  },
  {
   "cell_type": "code",
   "execution_count": 20,
   "id": "c417d385",
   "metadata": {},
   "outputs": [],
   "source": [
    "from sklearn.preprocessing import StandardScaler # fit vs transform vs fit_transform\n",
    "scaler = StandardScaler()\n",
    "scaler.fit(x_train)\n",
    "x_train = scaler.transform(x_train)\n",
    "x_test = scaler.transform(x_test)"
   ]
  },
  {
   "cell_type": "code",
   "execution_count": 21,
   "id": "6e89a747",
   "metadata": {},
   "outputs": [
    {
     "data": {
      "text/plain": [
       "array([[ 1.53003874e+00, -8.86292904e-01, -1.16598019e+00],\n",
       "       [ 3.41038651e-01, -1.73144262e-01, -4.09601321e-01],\n",
       "       [-5.20208901e-01, -4.20003407e-01,  3.95263370e-01],\n",
       "       [-1.58600275e+00,  7.93720724e-01,  1.71892638e+00],\n",
       "       [ 1.60659408e+00, -1.33201081e+00, -1.06415995e+00],\n",
       "       [-1.63863454e+00, -5.16004186e-01, -3.95055573e-01],\n",
       "       [ 1.64128322e+00,  2.86288037e-01, -1.38901498e+00],\n",
       "       [-1.64700778e+00, -7.83434927e-01, -3.41721166e-01],\n",
       "       [-2.64226989e-01, -1.27715322e+00, -1.02537129e+00],\n",
       "       [-1.56447156e+00,  1.06115147e+00, -1.02537129e+00],\n",
       "       [-6.69731045e-01, -9.54864889e-01, -1.30174050e+00],\n",
       "       [-9.11358830e-01, -1.61315594e+00, -1.03021988e+00],\n",
       "       [ 3.82904851e-01, -3.72003018e-01, -2.35052352e-01],\n",
       "       [ 2.46540656e-01,  6.77148350e-01,  4.00111952e-01],\n",
       "       [-3.67098225e-01,  9.17150297e-01,  2.36378785e+00],\n",
       "       [ 6.36494408e-01, -2.00573056e-01, -9.57491140e-01],\n",
       "       [-1.61355754e-01,  3.96003212e-01, -8.65368073e-01],\n",
       "       [ 3.41038651e-01,  1.39715419e+00, -1.39386356e+00],\n",
       "       [ 7.89605084e-01, -1.31829641e+00,  9.38304606e-01],\n",
       "       [ 1.02046727e+00,  9.92579480e-01, -3.51418331e-01],\n",
       "       [-1.66495044e+00,  1.53429816e+00,  1.88377819e+00],\n",
       "       [-4.29299437e-01,  3.41145625e-01, -7.87790753e-01],\n",
       "       [-7.97722000e-01, -9.34293293e-01,  2.54654478e-01],\n",
       "       [ 4.15201635e-01,  3.54860021e-01, -5.93847454e-01],\n",
       "       [-9.67579156e-01, -8.72578507e-01, -1.18537452e+00],\n",
       "       [ 4.40321355e-01, -3.51431422e-01,  1.70922922e+00],\n",
       "       [-8.45569087e-01,  8.41721114e-01,  9.14061694e-01],\n",
       "       [ 1.32190392e+00,  1.39029699e+00, -1.23386034e+00],\n",
       "       [-1.39820293e+00,  1.20515263e+00, -1.19507168e+00],\n",
       "       [ 1.25491800e+00,  1.31486781e+00,  1.17588515e+00],\n",
       "       [-1.71279752e+00, -5.22861384e-01,  9.28607441e-01],\n",
       "       [ 4.46302241e-01,  8.14292320e-01,  2.18923888e+00],\n",
       "       [ 1.67477618e+00,  8.76007106e-01,  3.41593025e+00],\n",
       "       [ 1.30635361e+00, -2.41716247e-01, -1.46174372e+00],\n",
       "       [ 6.97499443e-01,  3.25716928e-02, -1.28234617e+00],\n",
       "       [-8.00157075e-02,  8.28006717e-01, -1.18537452e+00],\n",
       "       [-2.95327595e-01, -3.51431422e-01,  2.01320071e-01],\n",
       "       [-1.18289104e+00,  6.36005159e-01, -3.36872584e-01],\n",
       "       [ 1.00132844e+00, -4.68003796e-01, -3.65964078e-01],\n",
       "       [-1.80494589e-01,  2.24573250e-01,  7.63755637e-01],\n",
       "       [ 2.91995388e-01, -8.72578507e-01,  1.35528270e+00],\n",
       "       [-7.08008714e-01, -1.51029797e+00, -2.17147229e-02],\n",
       "       [ 7.66877718e-01,  6.63433953e-01,  3.61323292e-01],\n",
       "       [-1.92456360e-01, -1.48286917e+00, -1.03991704e+00],\n",
       "       [ 1.18434355e+00,  2.31430449e-01, -1.20961743e+00],\n",
       "       [-7.19970485e-01, -5.98290568e-01,  4.09809117e-01],\n",
       "       [-1.08001981e+00, -1.21543843e+00, -3.02932506e-01],\n",
       "       [ 9.91759023e-01, -5.50290178e-01, -1.52626450e-01],\n",
       "       [ 2.30990353e-01, -5.57147377e-01, -1.35992348e+00],\n",
       "       [ 1.00132844e+00, -1.11258045e+00, -1.05446279e+00],\n",
       "       [-1.65657720e+00,  9.65150686e-01, -4.28995650e-01],\n",
       "       [ 8.81710725e-01,  9.78865083e-01,  1.87892961e+00],\n",
       "       [ 1.52166550e+00,  1.26686742e+00,  1.73347213e+00],\n",
       "       [ 1.78358558e-01,  1.10915185e+00,  3.51626127e-01],\n",
       "       [ 5.10895807e-01,  4.85146793e-01,  4.00111952e-01],\n",
       "       [-3.98198831e-01,  7.59434732e-01, -8.75065238e-01],\n",
       "       [-3.02504658e-01,  1.32172501e+00, -7.50491301e-02],\n",
       "       [-1.57045244e+00,  1.49144067e-01,  6.23146746e-01],\n",
       "       [ 8.50567398e-02,  9.10293099e-01, -1.11749436e+00],\n",
       "       [ 1.10539585e+00,  2.45144846e-01, -3.65964078e-01],\n",
       "       [ 5.51565830e-01, -8.40006814e-02,  5.58625966e-02],\n",
       "       [-1.71399370e+00, -1.58572715e+00, -2.35052352e-01],\n",
       "       [-1.82164964e+00, -8.17720919e-01, -1.19992026e+00],\n",
       "       [-7.47482560e-01,  1.36972540e+00,  9.72244684e-01],\n",
       "       [ 1.27405683e+00, -1.37315400e+00, -5.30815882e-01],\n",
       "       [ 8.60179536e-01, -4.54289399e-01, -2.05960857e-01],\n",
       "       [ 1.16520471e+00, -1.52572666e-01, -2.17147229e-02],\n",
       "       [ 1.03840993e+00,  1.74687131e+00,  6.71632570e-01],\n",
       "       [ 9.97739909e-01, -1.33201081e+00,  3.12837468e-01],\n",
       "       [ 8.56591005e-01,  9.72007885e-01,  7.52569265e-02],\n",
       "       [ 7.05872683e-01,  5.14289886e-03,  1.31649404e+00],\n",
       "       [ 9.98936086e-01,  1.23258143e+00, -5.79301707e-01],\n",
       "       [-5.85998644e-01, -6.53148155e-01, -9.47793975e-01],\n",
       "       [ 3.75727788e-01, -1.66287063e-01, -1.01567413e+00],\n",
       "       [ 6.04197625e-01, -1.03715127e+00, -1.96263692e-01],\n",
       "       [-1.35633673e+00,  1.62858464e-01, -4.82330058e-01],\n",
       "       [-5.84845187e-02,  1.21886703e+00,  1.36013128e+00],\n",
       "       [-2.21164612e-01,  1.56858415e+00,  1.38437419e+00],\n",
       "       [ 3.13526576e-01,  1.55486976e+00,  1.36982845e+00],\n",
       "       [ 7.58504478e-01,  6.84005549e-01,  7.10421230e-01],\n",
       "       [ 2.52051615e-03, -1.43486878e+00, -1.07385712e+00],\n",
       "       [ 1.43912928e+00, -1.45544038e+00, -3.27175419e-01],\n",
       "       [ 5.81470259e-01,  1.47944057e+00, -5.25967300e-01],\n",
       "       [-1.07045039e+00, -8.10863721e-01,  3.07988885e-01],\n",
       "       [-9.56813562e-01,  2.17716052e-01, -3.95055573e-01],\n",
       "       [-7.25951371e-01, -1.51715516e+00, -1.11749436e+00],\n",
       "       [-4.32887968e-01, -2.69145040e-01, -9.13853898e-01],\n",
       "       [ 8.30275107e-01, -1.05086567e+00,  1.26315963e+00],\n",
       "       [-1.52858624e+00, -1.51029797e+00,  1.23742751e-01],\n",
       "       [-1.05250773e+00,  1.43829738e+00,  2.49805895e-01],\n",
       "       [ 1.10061114e+00,  4.57717999e-01, -4.92027223e-01],\n",
       "       [ 7.42954175e-01, -1.24286722e+00, -1.47777867e-01],\n",
       "       [-5.57290392e-01,  1.66458493e+00,  1.01588193e+00],\n",
       "       [-1.76782167e+00, -1.46915477e+00, -1.42780364e+00],\n",
       "       [-7.04420182e-01, -1.09200886e+00, -1.12719153e+00],\n",
       "       [ 6.49652357e-01,  4.09717609e-01, -1.02537129e+00],\n",
       "       [ 9.70185114e-02, -1.80001460e-01,  8.21938627e-01],\n",
       "       [ 1.30156891e+00, -1.41429719e+00,  6.08600998e-01],\n",
       "       [ 1.49534961e+00,  1.10229466e+00,  1.22921955e+00],\n",
       "       [-1.55011743e+00,  6.49719556e-01, -5.40513047e-01],\n",
       "       [ 1.44152163e+00,  1.74001411e+00,  5.50418009e-01],\n",
       "       [-1.42930354e+00,  1.03372267e+00,  1.70438064e+00],\n",
       "       [ 6.03001448e-01, -1.25658162e+00, -5.35664465e-01],\n",
       "       [ 1.56951259e+00,  1.33543940e+00,  2.00499275e+00],\n",
       "       [-6.42218970e-01,  4.16574808e-01, -1.06900854e+00],\n",
       "       [ 1.27166448e+00,  3.61717220e-01, -7.05364851e-01],\n",
       "       [-7.89348760e-01, -1.59258435e+00, -3.51418331e-01],\n",
       "       [ 5.19269047e-01, -1.40058279e+00,  2.01320071e-01],\n",
       "       [-7.43894028e-01, -1.27715322e+00, -1.08355428e+00],\n",
       "       [ 6.50848534e-01,  1.78801450e+00,  3.51626127e-01],\n",
       "       [ 8.47021587e-01, -5.29718583e-01,  9.43153189e-01],\n",
       "       [-8.14468481e-01,  1.35429670e-01,  2.08257007e+00],\n",
       "       [ 9.69031657e-01, -1.26343882e+00, -3.36872584e-01],\n",
       "       [-2.41499623e-01, -2.96573834e-01, -6.71424774e-01],\n",
       "       [ 1.92712684e-01, -3.72003018e-01,  1.22253544e-02],\n",
       "       [-1.66495044e+00, -1.33201081e+00,  5.58625966e-02],\n",
       "       [-1.15777132e+00, -7.90292125e-01,  6.13449581e-01],\n",
       "       [-9.77148574e-01,  1.77430011e+00,  7.39512725e-01],\n",
       "       [-7.88195304e-02, -1.52401236e+00, -2.98083924e-01],\n",
       "       [ 1.24530586e-01,  1.26686742e+00, -1.30174050e+00],\n",
       "       [-1.33839407e+00,  1.08172306e+00,  7.10421230e-01],\n",
       "       [ 7.17834455e-01,  1.24629582e+00,  4.43749194e-01],\n",
       "       [-1.33600172e+00,  1.56001265e-01, -4.77481475e-01],\n",
       "       [-1.86231967e+00,  1.10229466e+00, -1.05446279e+00],\n",
       "       [-4.23318551e-01, -1.03715127e+00,  8.84970199e-01],\n",
       "       [ 3.76923966e-01, -4.33717804e-01, -6.08393202e-01],\n",
       "       [-2.53461395e-01,  1.24629582e+00,  7.49209890e-01],\n",
       "       [-2.05614309e-01, -6.32576560e-01, -2.35052352e-01],\n",
       "       [-5.46524798e-01,  1.17086664e+00,  1.58801466e+00],\n",
       "       [ 6.81949140e-01,  7.37148837e-02, -8.41125160e-01],\n",
       "       [-1.64581160e+00, -1.25143872e-01,  9.67396101e-01],\n",
       "       [ 9.05634268e-01, -1.02343687e+00, -1.05446279e+00],\n",
       "       [ 7.41757998e-01,  2.86288037e-01,  1.11285358e+00],\n",
       "       [ 1.55037375e+00, -6.60005354e-01, -1.29689191e+00],\n",
       "       [-5.57290392e-01, -6.32576560e-01,  6.07111791e-02],\n",
       "       [-1.57164862e+00, -8.58864110e-01, -3.62604703e-02],\n",
       "       [ 5.70704665e-01,  6.42862358e-01,  7.54058472e-01],\n",
       "       [ 7.33384758e-01,  6.84005549e-01,  1.38437419e+00],\n",
       "       [ 1.10176460e-01, -9.27436095e-01, -6.22938949e-01],\n",
       "       [ 1.48099548e+00, -9.20578896e-01, -4.38692815e-01]])"
      ]
     },
     "execution_count": 21,
     "metadata": {},
     "output_type": "execute_result"
    }
   ],
   "source": [
    "x_train"
   ]
  },
  {
   "cell_type": "markdown",
   "id": "e80ea25c",
   "metadata": {},
   "source": [
    "# Training the model"
   ]
  },
  {
   "cell_type": "code",
   "execution_count": 22,
   "id": "7b8c74b3",
   "metadata": {},
   "outputs": [
    {
     "data": {
      "text/html": [
       "<style>#sk-container-id-2 {color: black;background-color: white;}#sk-container-id-2 pre{padding: 0;}#sk-container-id-2 div.sk-toggleable {background-color: white;}#sk-container-id-2 label.sk-toggleable__label {cursor: pointer;display: block;width: 100%;margin-bottom: 0;padding: 0.3em;box-sizing: border-box;text-align: center;}#sk-container-id-2 label.sk-toggleable__label-arrow:before {content: \"▸\";float: left;margin-right: 0.25em;color: #696969;}#sk-container-id-2 label.sk-toggleable__label-arrow:hover:before {color: black;}#sk-container-id-2 div.sk-estimator:hover label.sk-toggleable__label-arrow:before {color: black;}#sk-container-id-2 div.sk-toggleable__content {max-height: 0;max-width: 0;overflow: hidden;text-align: left;background-color: #f0f8ff;}#sk-container-id-2 div.sk-toggleable__content pre {margin: 0.2em;color: black;border-radius: 0.25em;background-color: #f0f8ff;}#sk-container-id-2 input.sk-toggleable__control:checked~div.sk-toggleable__content {max-height: 200px;max-width: 100%;overflow: auto;}#sk-container-id-2 input.sk-toggleable__control:checked~label.sk-toggleable__label-arrow:before {content: \"▾\";}#sk-container-id-2 div.sk-estimator input.sk-toggleable__control:checked~label.sk-toggleable__label {background-color: #d4ebff;}#sk-container-id-2 div.sk-label input.sk-toggleable__control:checked~label.sk-toggleable__label {background-color: #d4ebff;}#sk-container-id-2 input.sk-hidden--visually {border: 0;clip: rect(1px 1px 1px 1px);clip: rect(1px, 1px, 1px, 1px);height: 1px;margin: -1px;overflow: hidden;padding: 0;position: absolute;width: 1px;}#sk-container-id-2 div.sk-estimator {font-family: monospace;background-color: #f0f8ff;border: 1px dotted black;border-radius: 0.25em;box-sizing: border-box;margin-bottom: 0.5em;}#sk-container-id-2 div.sk-estimator:hover {background-color: #d4ebff;}#sk-container-id-2 div.sk-parallel-item::after {content: \"\";width: 100%;border-bottom: 1px solid gray;flex-grow: 1;}#sk-container-id-2 div.sk-label:hover label.sk-toggleable__label {background-color: #d4ebff;}#sk-container-id-2 div.sk-serial::before {content: \"\";position: absolute;border-left: 1px solid gray;box-sizing: border-box;top: 0;bottom: 0;left: 50%;z-index: 0;}#sk-container-id-2 div.sk-serial {display: flex;flex-direction: column;align-items: center;background-color: white;padding-right: 0.2em;padding-left: 0.2em;position: relative;}#sk-container-id-2 div.sk-item {position: relative;z-index: 1;}#sk-container-id-2 div.sk-parallel {display: flex;align-items: stretch;justify-content: center;background-color: white;position: relative;}#sk-container-id-2 div.sk-item::before, #sk-container-id-2 div.sk-parallel-item::before {content: \"\";position: absolute;border-left: 1px solid gray;box-sizing: border-box;top: 0;bottom: 0;left: 50%;z-index: -1;}#sk-container-id-2 div.sk-parallel-item {display: flex;flex-direction: column;z-index: 1;position: relative;background-color: white;}#sk-container-id-2 div.sk-parallel-item:first-child::after {align-self: flex-end;width: 50%;}#sk-container-id-2 div.sk-parallel-item:last-child::after {align-self: flex-start;width: 50%;}#sk-container-id-2 div.sk-parallel-item:only-child::after {width: 0;}#sk-container-id-2 div.sk-dashed-wrapped {border: 1px dashed gray;margin: 0 0.4em 0.5em 0.4em;box-sizing: border-box;padding-bottom: 0.4em;background-color: white;}#sk-container-id-2 div.sk-label label {font-family: monospace;font-weight: bold;display: inline-block;line-height: 1.2em;}#sk-container-id-2 div.sk-label-container {text-align: center;}#sk-container-id-2 div.sk-container {/* jupyter's `normalize.less` sets `[hidden] { display: none; }` but bootstrap.min.css set `[hidden] { display: none !important; }` so we also need the `!important` here to be able to override the default hidden behavior on the sphinx rendered scikit-learn.org. See: https://github.com/scikit-learn/scikit-learn/issues/21755 */display: inline-block !important;position: relative;}#sk-container-id-2 div.sk-text-repr-fallback {display: none;}</style><div id=\"sk-container-id-2\" class=\"sk-top-container\"><div class=\"sk-text-repr-fallback\"><pre>LinearRegression()</pre><b>In a Jupyter environment, please rerun this cell to show the HTML representation or trust the notebook. <br />On GitHub, the HTML representation is unable to render, please try loading this page with nbviewer.org.</b></div><div class=\"sk-container\" hidden><div class=\"sk-item\"><div class=\"sk-estimator sk-toggleable\"><input class=\"sk-toggleable__control sk-hidden--visually\" id=\"sk-estimator-id-2\" type=\"checkbox\" checked><label for=\"sk-estimator-id-2\" class=\"sk-toggleable__label sk-toggleable__label-arrow\">LinearRegression</label><div class=\"sk-toggleable__content\"><pre>LinearRegression()</pre></div></div></div></div></div>"
      ],
      "text/plain": [
       "LinearRegression()"
      ]
     },
     "execution_count": 22,
     "metadata": {},
     "output_type": "execute_result"
    }
   ],
   "source": [
    "lm = LinearRegression()\n",
    "lm.fit(x_train,y_train)"
   ]
  },
  {
   "cell_type": "markdown",
   "id": "6c247925",
   "metadata": {},
   "source": [
    "# Checking the intercept and coeffiecient"
   ]
  },
  {
   "cell_type": "code",
   "execution_count": 23,
   "id": "64ba17ef",
   "metadata": {},
   "outputs": [
    {
     "name": "stdout",
     "output_type": "stream",
     "text": [
      " The intercept is 14.497142857142858\n",
      " The coffiecient is [3.68334078 2.90625242 0.14194772]\n"
     ]
    }
   ],
   "source": [
    "print(f\" The intercept is {lm.intercept_}\")  # Give the intercept\n",
    "print(f\" The coffiecient is {lm.coef_}\")  # Give the coefficient "
   ]
  },
  {
   "cell_type": "markdown",
   "id": "f009dec8",
   "metadata": {},
   "source": [
    "# Prediction"
   ]
  },
  {
   "cell_type": "code",
   "execution_count": 24,
   "id": "b57e0e36",
   "metadata": {},
   "outputs": [
    {
     "data": {
      "text/plain": [
       "array([17.39149783, 15.19196153, 11.41650701, 11.20610472, 16.39256165,\n",
       "        6.90577778, 21.17740606,  6.10528574,  9.66662607, 11.67308587,\n",
       "        9.0704377 ,  6.30582199, 14.7930121 , 17.42999512, 16.14599956,\n",
       "       16.12273906, 14.9308629 , 19.61593142, 13.70741553, 21.09067507,\n",
       "       13.09101877, 13.79551693,  8.87971636, 16.97348947,  8.22902448,\n",
       "       15.34026923, 13.95862675, 23.23157581, 12.67992504, 23.10768546,\n",
       "        6.80057243, 18.81832259, 23.69669553, 18.39890879, 16.97890645,\n",
       "       16.44055305, 12.41657918, 11.94072527, 16.7732918 , 14.5933997 ,\n",
       "       13.22910727,  7.49691601, 19.30121038,  9.33105452, 19.3603766 ,\n",
       "       10.16463427,  6.94369039, 16.52918217, 13.53571009, 14.80225851,\n",
       "       11.13948107, 20.85632272, 24.02985438, 18.427486  , 17.84570024,\n",
       "       15.11333638, 17.21352856,  9.2345359 , 17.29735156, 19.22919752,\n",
       "       16.29255016,  3.54203145,  5.24055709, 15.86268553, 15.12384811,\n",
       "       16.31596188, 18.34249185, 23.4941462 , 14.34540589, 20.48784226,\n",
       "       17.29893239, 21.67652708, 10.30595955, 15.25363154, 13.68052604,\n",
       "        9.90613461, 18.01712723, 18.43772847, 20.3652561 , 19.37970879,\n",
       "       10.18390434, 15.52162749, 20.86386386,  8.24145294, 11.54953301,\n",
       "        7.25535492, 11.99074605, 14.68055076,  4.4950967 , 14.83591282,\n",
       "       19.81147067, 13.60063366, 17.42635854,  3.5132451 ,  8.56886762,\n",
       "       17.93522755, 14.44803773, 15.26734959, 23.38305647, 10.59905655,\n",
       "       24.94180909, 12.47872281, 12.99022295, 24.44392073, 13.19055975,\n",
       "       20.1322331 ,  6.91136723, 12.36791752,  7.89158996, 22.14077381,\n",
       "       16.21139454, 12.18638677, 14.34672625, 12.65039181, 14.12757003,\n",
       "        4.50133295,  8.02296589, 16.15950779,  9.73534671, 18.45288885,\n",
       "       12.81198432, 20.82621122,  9.96179489, 10.6914528 , 10.04931249,\n",
       "       14.53862883, 17.29195706, 11.86800298, 16.11235485, 17.1038322 ,\n",
       "        8.20867785, 14.70885801, 18.21928267, 18.10546473, 10.61464308,\n",
       "        6.20700241, 18.57459979, 19.38285038, 12.11917215, 17.21444781])"
      ]
     },
     "execution_count": 24,
     "metadata": {},
     "output_type": "execute_result"
    }
   ],
   "source": [
    "preds_train = lm.predict(x_train)\n",
    "preds_test = lm.predict(x_test)\n",
    "\n",
    "preds_train"
   ]
  },
  {
   "cell_type": "markdown",
   "id": "2496448a",
   "metadata": {},
   "source": [
    "# Assessing model performance through various metrics."
   ]
  },
  {
   "cell_type": "code",
   "execution_count": 25,
   "id": "c60596f7",
   "metadata": {},
   "outputs": [
    {
     "name": "stdout",
     "output_type": "stream",
     "text": [
      " RMSE for train data is :1.574596830590544\n",
      " R2 for train data is : 0.9055159502227753\n",
      " RMSE for test data is :1.9485372043446398\n",
      " R2 for test data is : 0.8609466508230366\n"
     ]
    }
   ],
   "source": [
    "from sklearn.metrics import r2_score,mean_squared_error\n",
    "print(f\" RMSE for train data is :{np.sqrt(mean_squared_error(y_train,preds_train))}\")\n",
    "print(f\" R2 for train data is : {r2_score(y_train,preds_train)}\")\n",
    "print(f\" RMSE for test data is :{np.sqrt(mean_squared_error(y_test,preds_test))}\")\n",
    "print(f\" R2 for test data is : {r2_score(y_test,preds_test)}\")"
   ]
  },
  {
   "cell_type": "code",
   "execution_count": 32,
   "id": "9d30f2a9",
   "metadata": {},
   "outputs": [],
   "source": [
    "import statsmodels.api as sm\n",
    "strain = sm.add_constant(x_train)\n",
    "model = sm.OLS(y_train,x_train).fit()"
   ]
  },
  {
   "cell_type": "code",
   "execution_count": 33,
   "id": "64ac9f4e",
   "metadata": {},
   "outputs": [
    {
     "data": {
      "text/html": [
       "<table class=\"simpletable\">\n",
       "<caption>OLS Regression Results</caption>\n",
       "<tr>\n",
       "  <th>Dep. Variable:</th>          <td>sales</td>      <th>  R-squared (uncentered):</th>      <td>   0.101</td>\n",
       "</tr>\n",
       "<tr>\n",
       "  <th>Model:</th>                   <td>OLS</td>       <th>  Adj. R-squared (uncentered):</th> <td>   0.081</td>\n",
       "</tr>\n",
       "<tr>\n",
       "  <th>Method:</th>             <td>Least Squares</td>  <th>  F-statistic:       </th>          <td>   5.103</td>\n",
       "</tr>\n",
       "<tr>\n",
       "  <th>Date:</th>             <td>Thu, 25 Apr 2024</td> <th>  Prob (F-statistic):</th>           <td>0.00223</td>\n",
       "</tr>\n",
       "<tr>\n",
       "  <th>Time:</th>                 <td>18:10:25</td>     <th>  Log-Likelihood:    </th>          <td> -573.83</td>\n",
       "</tr>\n",
       "<tr>\n",
       "  <th>No. Observations:</th>      <td>   140</td>      <th>  AIC:               </th>          <td>   1154.</td>\n",
       "</tr>\n",
       "<tr>\n",
       "  <th>Df Residuals:</th>          <td>   137</td>      <th>  BIC:               </th>          <td>   1162.</td>\n",
       "</tr>\n",
       "<tr>\n",
       "  <th>Df Model:</th>              <td>     3</td>      <th>                     </th>              <td> </td>   \n",
       "</tr>\n",
       "<tr>\n",
       "  <th>Covariance Type:</th>      <td>nonrobust</td>    <th>                     </th>              <td> </td>   \n",
       "</tr>\n",
       "</table>\n",
       "<table class=\"simpletable\">\n",
       "<tr>\n",
       "   <td></td>     <th>coef</th>     <th>std err</th>      <th>t</th>      <th>P>|t|</th>  <th>[0.025</th>    <th>0.975]</th>  \n",
       "</tr>\n",
       "<tr>\n",
       "  <th>x1</th> <td>    3.6833</td> <td>    1.249</td> <td>    2.950</td> <td> 0.004</td> <td>    1.214</td> <td>    6.152</td>\n",
       "</tr>\n",
       "<tr>\n",
       "  <th>x2</th> <td>    2.9063</td> <td>    1.328</td> <td>    2.189</td> <td> 0.030</td> <td>    0.281</td> <td>    5.532</td>\n",
       "</tr>\n",
       "<tr>\n",
       "  <th>x3</th> <td>    0.1419</td> <td>    1.326</td> <td>    0.107</td> <td> 0.915</td> <td>   -2.480</td> <td>    2.763</td>\n",
       "</tr>\n",
       "</table>\n",
       "<table class=\"simpletable\">\n",
       "<tr>\n",
       "  <th>Omnibus:</th>       <td>68.437</td> <th>  Durbin-Watson:     </th> <td>   0.027</td>\n",
       "</tr>\n",
       "<tr>\n",
       "  <th>Prob(Omnibus):</th> <td> 0.000</td> <th>  Jarque-Bera (JB):  </th> <td> 325.342</td>\n",
       "</tr>\n",
       "<tr>\n",
       "  <th>Skew:</th>          <td>-1.709</td> <th>  Prob(JB):          </th> <td>2.25e-71</td>\n",
       "</tr>\n",
       "<tr>\n",
       "  <th>Kurtosis:</th>      <td> 9.640</td> <th>  Cond. No.          </th> <td>    1.44</td>\n",
       "</tr>\n",
       "</table><br/><br/>Notes:<br/>[1] R² is computed without centering (uncentered) since the model does not contain a constant.<br/>[2] Standard Errors assume that the covariance matrix of the errors is correctly specified."
      ],
      "text/plain": [
       "<class 'statsmodels.iolib.summary.Summary'>\n",
       "\"\"\"\n",
       "                                 OLS Regression Results                                \n",
       "=======================================================================================\n",
       "Dep. Variable:                  sales   R-squared (uncentered):                   0.101\n",
       "Model:                            OLS   Adj. R-squared (uncentered):              0.081\n",
       "Method:                 Least Squares   F-statistic:                              5.103\n",
       "Date:                Thu, 25 Apr 2024   Prob (F-statistic):                     0.00223\n",
       "Time:                        18:10:25   Log-Likelihood:                         -573.83\n",
       "No. Observations:                 140   AIC:                                      1154.\n",
       "Df Residuals:                     137   BIC:                                      1162.\n",
       "Df Model:                           3                                                  \n",
       "Covariance Type:            nonrobust                                                  \n",
       "==============================================================================\n",
       "                 coef    std err          t      P>|t|      [0.025      0.975]\n",
       "------------------------------------------------------------------------------\n",
       "x1             3.6833      1.249      2.950      0.004       1.214       6.152\n",
       "x2             2.9063      1.328      2.189      0.030       0.281       5.532\n",
       "x3             0.1419      1.326      0.107      0.915      -2.480       2.763\n",
       "==============================================================================\n",
       "Omnibus:                       68.437   Durbin-Watson:                   0.027\n",
       "Prob(Omnibus):                  0.000   Jarque-Bera (JB):              325.342\n",
       "Skew:                          -1.709   Prob(JB):                     2.25e-71\n",
       "Kurtosis:                       9.640   Cond. No.                         1.44\n",
       "==============================================================================\n",
       "\n",
       "Notes:\n",
       "[1] R² is computed without centering (uncentered) since the model does not contain a constant.\n",
       "[2] Standard Errors assume that the covariance matrix of the errors is correctly specified.\n",
       "\"\"\""
      ]
     },
     "execution_count": 33,
     "metadata": {},
     "output_type": "execute_result"
    }
   ],
   "source": [
    "model.summary()"
   ]
  },
  {
   "cell_type": "code",
   "execution_count": null,
   "id": "48403046",
   "metadata": {},
   "outputs": [],
   "source": []
  }
 ],
 "metadata": {
  "kernelspec": {
   "display_name": "Python 3 (ipykernel)",
   "language": "python",
   "name": "python3"
  },
  "language_info": {
   "codemirror_mode": {
    "name": "ipython",
    "version": 3
   },
   "file_extension": ".py",
   "mimetype": "text/x-python",
   "name": "python",
   "nbconvert_exporter": "python",
   "pygments_lexer": "ipython3",
   "version": "3.11.7"
  }
 },
 "nbformat": 4,
 "nbformat_minor": 5
}
