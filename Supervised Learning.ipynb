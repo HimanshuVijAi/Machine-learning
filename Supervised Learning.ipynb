{
 "cells": [
  {
   "cell_type": "raw",
   "id": "001bf3ee",
   "metadata": {},
   "source": [
    "Supervised learning is used to train models using labelled training data.It provides the ability to predict the output of future or unseen data.\n",
    "\n",
    "\n",
    "The goal of  a supervised learning algorithm is to discover a mapping function that will translate the input variable (x) the output variable (y)."
   ]
  },
  {
   "cell_type": "raw",
   "id": "14c943fa",
   "metadata": {},
   "source": [
    "Supervised Learning Examples\n",
    "1.Wheather\n",
    "2.Gmail Filters \n",
    "3.Youtube Recommendation \n",
    "4.Amazon Recommendation"
   ]
  }
 ],
 "metadata": {
  "kernelspec": {
   "display_name": "Python 3 (ipykernel)",
   "language": "python",
   "name": "python3"
  },
  "language_info": {
   "codemirror_mode": {
    "name": "ipython",
    "version": 3
   },
   "file_extension": ".py",
   "mimetype": "text/x-python",
   "name": "python",
   "nbconvert_exporter": "python",
   "pygments_lexer": "ipython3",
   "version": "3.10.9"
  }
 },
 "nbformat": 4,
 "nbformat_minor": 5
}
